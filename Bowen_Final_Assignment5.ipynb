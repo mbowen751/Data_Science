{
  "nbformat": 4,
  "nbformat_minor": 0,
  "metadata": {
    "colab": {
      "name": "Bowen_Final_Assignment5.ipynb",
      "provenance": [],
      "collapsed_sections": []
    },
    "kernelspec": {
      "display_name": "Python 3",
      "name": "python3"
    },
    "language_info": {
      "name": "python"
    }
  },
  "cells": [
    {
      "cell_type": "markdown",
      "metadata": {
        "id": "8GPJ8kplCOxf"
      },
      "source": [
        "# <center><font color=Purple> Matthew Bowen's Final Project</font></center>"
      ]
    },
    {
      "cell_type": "markdown",
      "metadata": {
        "id": "Fe26fxvfEdDD"
      },
      "source": [
        "# Preliminary set up and data retrieval"
      ]
    },
    {
      "cell_type": "markdown",
      "metadata": {
        "id": "1fFrqYVTLt6I"
      },
      "source": [
        "## Used Libraries"
      ]
    },
    {
      "cell_type": "markdown",
      "metadata": {
        "id": "Fy8Tj0qKdmim"
      },
      "source": [
        "Here are the libraries I used in this project and also my API key to link to Kaggle data sets."
      ]
    },
    {
      "cell_type": "code",
      "metadata": {
        "id": "9_pj8jm1DnjY",
        "colab": {
          "base_uri": "https://localhost:8080/"
        },
        "outputId": "85004e00-d478-459d-d0af-42b47dbf4e56"
      },
      "source": [
        "!pip install kaggle\n",
        "import json\n",
        "import pandas as pd\n",
        "import numpy as np\n",
        "import matplotlib.pyplot as plt\n",
        "token={\"username\":\"mattbowen13\",\"key\":\"29cf0c9a31a14878fdd40d06180edb8f\"}\n",
        "!mkdir ~/.kaggle"
      ],
      "execution_count": null,
      "outputs": [
        {
          "output_type": "stream",
          "name": "stdout",
          "text": [
            "Requirement already satisfied: kaggle in /usr/local/lib/python3.7/dist-packages (1.5.12)\n",
            "Requirement already satisfied: requests in /usr/local/lib/python3.7/dist-packages (from kaggle) (2.23.0)\n",
            "Requirement already satisfied: python-dateutil in /usr/local/lib/python3.7/dist-packages (from kaggle) (2.8.2)\n",
            "Requirement already satisfied: certifi in /usr/local/lib/python3.7/dist-packages (from kaggle) (2021.5.30)\n",
            "Requirement already satisfied: urllib3 in /usr/local/lib/python3.7/dist-packages (from kaggle) (1.24.3)\n",
            "Requirement already satisfied: six>=1.10 in /usr/local/lib/python3.7/dist-packages (from kaggle) (1.15.0)\n",
            "Requirement already satisfied: python-slugify in /usr/local/lib/python3.7/dist-packages (from kaggle) (5.0.2)\n",
            "Requirement already satisfied: tqdm in /usr/local/lib/python3.7/dist-packages (from kaggle) (4.62.3)\n",
            "Requirement already satisfied: text-unidecode>=1.3 in /usr/local/lib/python3.7/dist-packages (from python-slugify->kaggle) (1.3)\n",
            "Requirement already satisfied: chardet<4,>=3.0.2 in /usr/local/lib/python3.7/dist-packages (from requests->kaggle) (3.0.4)\n",
            "Requirement already satisfied: idna<3,>=2.5 in /usr/local/lib/python3.7/dist-packages (from requests->kaggle) (2.10)\n",
            "mkdir: cannot create directory ‘/root/.kaggle’: File exists\n"
          ]
        }
      ]
    },
    {
      "cell_type": "markdown",
      "metadata": {
        "id": "EqRnfS7FD-nd"
      },
      "source": [
        "## Get data from <font color=Red>kaggle</font>"
      ]
    },
    {
      "cell_type": "markdown",
      "metadata": {
        "id": "BBNHtL8NG2QR"
      },
      "source": [
        "Kaggle is a website that offers a no-setup, customizable, Jupyter Notebooks environment. Access free GPUs and a huge repository of community published data & code. Below is an example of a search for datasets including the keyword \"instacart\"; this project involves the first one listed by psparks.\n",
        "\n",
        "![picture](https://drive.google.com/uc?export=view&id=1E9LbLSzPfX2Q6A3NqnDUUPi9isKw4fb3)"
      ]
    },
    {
      "cell_type": "markdown",
      "metadata": {
        "id": "D1lpOlLxICZa"
      },
      "source": [
        "### Download desired dataset"
      ]
    },
    {
      "cell_type": "code",
      "metadata": {
        "id": "F7q7_Te2ENjV",
        "colab": {
          "base_uri": "https://localhost:8080/"
        },
        "outputId": "f693c934-e886-4df6-8fb8-6e3689af43ba"
      },
      "source": [
        "with open('/root/.kaggle/kaggle.json','w') as file:\n",
        "  json.dump(token, file)\n",
        "!kaggle config ser -n path -v{/root}\n",
        "!chmod 600 /root/.kaggle/kaggle.json\n",
        "!kaggle datasets download -d psparks/instacart-market-basket-analysis -p /content\n",
        "!unzip \\*.zip"
      ],
      "execution_count": null,
      "outputs": [
        {
          "output_type": "stream",
          "name": "stdout",
          "text": [
            "usage: kaggle config [-h] {view,set,unset} ...\n",
            "kaggle config: error: argument command: invalid choice: 'ser' (choose from 'view', 'set', 'unset')\n",
            "instacart-market-basket-analysis.zip: Skipping, found more recently modified local copy (use --force to force download)\n",
            "Archive:  instacart-market-basket-analysis.zip\n",
            "  inflating: aisles.csv              \n",
            "  inflating: departments.csv         \n",
            "  inflating: order_products__prior.csv  \n",
            "  inflating: order_products__train.csv  \n",
            "  inflating: orders.csv              \n",
            "  inflating: products.csv            \n"
          ]
        }
      ]
    },
    {
      "cell_type": "markdown",
      "metadata": {
        "id": "WOAaaYuvIOQn"
      },
      "source": [
        "### Unzip data and assign variables to read it"
      ]
    },
    {
      "cell_type": "markdown",
      "metadata": {
        "id": "jqibOg_Rdeyt"
      },
      "source": [
        "Reading the data of csv files into dataframe variables allows me to manipulate them with the imported libraries."
      ]
    },
    {
      "cell_type": "code",
      "metadata": {
        "id": "pLdI4vLmIqvN"
      },
      "source": [
        "aisles = pd.read_csv('aisles.csv')\n",
        "departments=pd.read_csv('departments.csv')\n",
        "orders=pd.read_csv('orders.csv')\n",
        "order_products__prior=pd.read_csv('order_products__prior.csv')\n",
        "order_products__train=pd.read_csv('order_products__train.csv')\n",
        "products=pd.read_csv('products.csv')"
      ],
      "execution_count": null,
      "outputs": []
    },
    {
      "cell_type": "markdown",
      "metadata": {
        "id": "NHpBAHIRIv1T"
      },
      "source": [
        "#### Create dictionaries to define terms within the dataframes"
      ]
    },
    {
      "cell_type": "markdown",
      "metadata": {
        "id": "xUhua4o1ePfx"
      },
      "source": [
        "These dictionaries give context to what all of the variable names and labels mean so it can be referenced if needed."
      ]
    },
    {
      "cell_type": "code",
      "metadata": {
        "id": "AtWb4H6AI95r"
      },
      "source": [
        "feature_meaning={'aisle_id':'aisle identifier', 'aisle':'the name of the aisle', 'department_id':'Number to discern the different departments', 'department':'The name of the departments', 'order_id':\"ID to differentiate customers' orders\", 'product_id':'The unique ID of an item', 'add_to_cart_order':'The order the products in an order were added to the cart', 'reordered':'Notes how many times an item has been reordered by a customer', 'user_id':\"customer identifier\", 'eval_set':'Flags an order as either prior or train', 'order_number':'the order sequence number for this user (1 = first, n = nth)', 'order_dow':'the day of the week the order was placed on', 'order_hour_of_day':'hour of day order was', 'days_since_prior_order':'days since last order capped at 30', 'product_name':'Name of product'}\n",
        "table_meaning={'aisles':'Shows what is in every aisle', 'departments':'Shows the different departments', 'order_products_prior':\"Shows the products ordered on trained employees' orders\", \"order_products_train\":\"Shows products ordered on trainees' orders\", 'prodcuts':'Further details the products ordered', 'orders':'Gives information about each order completed'}\n"
      ],
      "execution_count": null,
      "outputs": []
    },
    {
      "cell_type": "markdown",
      "metadata": {
        "id": "p0TXEee-JOcY"
      },
      "source": [
        "# Manipulate data to answer questions"
      ]
    },
    {
      "cell_type": "markdown",
      "metadata": {
        "id": "VxGhXVyaLPBh"
      },
      "source": [
        "## How many aisles contain the word *meat*?"
      ]
    },
    {
      "cell_type": "markdown",
      "metadata": {
        "id": "0kiN6H7IebAv"
      },
      "source": [
        "First, I wanted to see how many aisle names contain the word \"meat\". I thought it would be an interesting distinction as more diet appear with less of a focus on meat."
      ]
    },
    {
      "cell_type": "markdown",
      "metadata": {
        "id": "lqmEVFu3LyyV"
      },
      "source": [
        "### Manipulate data to find answer"
      ]
    },
    {
      "cell_type": "markdown",
      "metadata": {
        "id": "hNVmE20wetNI"
      },
      "source": [
        "This was a simple process as all I had to do was filter the data based on it containing the word \"meat\"."
      ]
    },
    {
      "cell_type": "code",
      "metadata": {
        "id": "om8detWlL_ok"
      },
      "source": [
        "aisles[aisles.aisle.str.contains('meat')]\n",
        "aisles['meat'] = aisles.aisle.str.contains('meat')"
      ],
      "execution_count": null,
      "outputs": []
    },
    {
      "cell_type": "markdown",
      "metadata": {
        "id": "YJRbkxf-L385"
      },
      "source": [
        "### Plot the results"
      ]
    },
    {
      "cell_type": "markdown",
      "metadata": {
        "id": "7I-j_MB8e8YM"
      },
      "source": [
        "I found that a pie chart would be the simplest way to show the distinction as it is an obvious boolean comparison."
      ]
    },
    {
      "cell_type": "code",
      "metadata": {
        "colab": {
          "base_uri": "https://localhost:8080/",
          "height": 281
        },
        "id": "uwqk-lGfMB7T",
        "outputId": "057398ce-c32c-43a1-e795-2dce47eeed3d"
      },
      "source": [
        "display(aisles.meat.value_counts().plot.pie().set_title(\"Meat is in aisle name\"))"
      ],
      "execution_count": null,
      "outputs": [
        {
          "output_type": "display_data",
          "data": {
            "text/plain": [
              "Text(0.5, 1.0, 'Meat is in aisle name')"
            ]
          },
          "metadata": {}
        },
        {
          "output_type": "display_data",
          "data": {
            "image/png": "[encoded data removed]",
            "text/plain": [
              "<Figure size 432x288 with 1 Axes>"
            ]
          },
          "metadata": {}
        }
      ]
    },
    {
      "cell_type": "markdown",
      "metadata": {
        "id": "ZEny3vN3MKNp"
      },
      "source": [
        "## How many items are unique (not reordered)?"
      ]
    },
    {
      "cell_type": "markdown",
      "metadata": {
        "id": "2bUkIV2mgJHc"
      },
      "source": [
        "Next I wanted to compare items that were unique to the data sets and products that were reordered at least once."
      ]
    },
    {
      "cell_type": "markdown",
      "metadata": {
        "id": "3pXzZKqoPDoB"
      },
      "source": [
        "### Manipulate the data to find answer"
      ]
    },
    {
      "cell_type": "markdown",
      "metadata": {
        "id": "ShMWiUJLgeC0"
      },
      "source": [
        "I looked specifically in the order_products__train dataframe to find the data I needed, then grouped it by if an item was reordered."
      ]
    },
    {
      "cell_type": "code",
      "metadata": {
        "id": "qFX4QuTCMhJa"
      },
      "source": [
        "opt=order_products__train[['product_id' , \"reordered\"]]\n",
        "huh=opt.groupby('reordered').count().agg(lambda x: x.tolist())"
      ],
      "execution_count": null,
      "outputs": []
    },
    {
      "cell_type": "markdown",
      "metadata": {
        "id": "7IQdRJtzMRiO"
      },
      "source": [
        "### Plot the results"
      ]
    },
    {
      "cell_type": "markdown",
      "metadata": {
        "id": "S7aKhO5ggrOV"
      },
      "source": [
        "A bar graph was a simple way to display if something was reordered or not as it was another boolean comparison."
      ]
    },
    {
      "cell_type": "code",
      "metadata": {
        "colab": {
          "base_uri": "https://localhost:8080/",
          "height": 326
        },
        "id": "Z-D_65m0MT2Y",
        "outputId": "70826dbd-262e-49dd-ddd0-5f7d74f5333d"
      },
      "source": [
        "fig, ax = plt.subplots()\n",
        "display(huh.plot(kind='bar', ax=ax).set_title('Unique vs reordered items'))\n",
        "ax.legend([\"Number of items\"])"
      ],
      "execution_count": null,
      "outputs": [
        {
          "output_type": "display_data",
          "data": {
            "text/plain": [
              "Text(0.5, 1.0, 'Unique vs reordered items')"
            ]
          },
          "metadata": {}
        },
        {
          "output_type": "execute_result",
          "data": {
            "text/plain": [
              "<matplotlib.legend.Legend at 0x7fe894478950>"
            ]
          },
          "metadata": {},
          "execution_count": 40
        },
        {
          "output_type": "display_data",
          "data": {
            "image/png": "[encoded data removed]",
            "text/plain": [
              "<Figure size 432x288 with 1 Axes>"
            ]
          },
          "metadata": {
            "needs_background": "light"
          }
        }
      ]
    },
    {
      "cell_type": "markdown",
      "metadata": {
        "id": "-n3TZjbGPkMD"
      },
      "source": [
        "## How many characters are in all of the department titles?"
      ]
    },
    {
      "cell_type": "markdown",
      "metadata": {
        "id": "uXgmOGaxg0sc"
      },
      "source": [
        "Now I wanted to see how many department titles have specific character legnths. I originally wanted to use my findings here to see if there was a correlation to department title length and how many products are ordered from them but I could not find a good way to do so."
      ]
    },
    {
      "cell_type": "markdown",
      "metadata": {
        "id": "6sn1cHmrPr-_"
      },
      "source": [
        "### Manipulate the data top find answer"
      ]
    },
    {
      "cell_type": "markdown",
      "metadata": {
        "id": "90fWfmUEhT_Z"
      },
      "source": [
        "I filtered departments to just their name and then counted each one."
      ]
    },
    {
      "cell_type": "code",
      "metadata": {
        "id": "KZXKIVn4QBcf"
      },
      "source": [
        "dp1 = departments[['department_id']]\n",
        "nd = pd.DataFrame()\n",
        "for row in departments[[\"department\"]]:\n",
        "  nd[row]=departments[row].str.len()\n",
        "nd[[row]]\n",
        "dp2 = nd.rename(columns = {'department':'characters in department name'})"
      ],
      "execution_count": null,
      "outputs": []
    },
    {
      "cell_type": "markdown",
      "metadata": {
        "id": "KMrGwqizQF7Q"
      },
      "source": [
        "### Plot the results"
      ]
    },
    {
      "cell_type": "markdown",
      "metadata": {
        "id": "3nutCbFvhfwJ"
      },
      "source": [
        "A bar graph was used once again to show the relation between each length."
      ]
    },
    {
      "cell_type": "code",
      "metadata": {
        "colab": {
          "base_uri": "https://localhost:8080/",
          "height": 285
        },
        "id": "SwQklN9qPf1p",
        "outputId": "cad4180f-09ab-4cb6-9a8d-6d1206265add"
      },
      "source": [
        "display(dp2.plot.bar())"
      ],
      "execution_count": null,
      "outputs": [
        {
          "output_type": "display_data",
          "data": {
            "text/plain": [
              "<matplotlib.axes._subplots.AxesSubplot at 0x7fe894774b90>"
            ]
          },
          "metadata": {}
        },
        {
          "output_type": "display_data",
          "data": {
            "image/png": "[encoded data removed]",
            "text/plain": [
              "<Figure size 432x288 with 1 Axes>"
            ]
          },
          "metadata": {
            "needs_background": "light"
          }
        }
      ]
    },
    {
      "cell_type": "markdown",
      "metadata": {
        "id": "Keui0oZ1QeG2"
      },
      "source": [
        "## What is the average time of day compared to the number of orders per unique user?"
      ]
    },
    {
      "cell_type": "markdown",
      "metadata": {
        "id": "nuswbUtNhlm2"
      },
      "source": [
        "This was my most interesting finding as I wanted to see if the most repeated users ordered at a certain time of day compared to less avid users."
      ]
    },
    {
      "cell_type": "markdown",
      "metadata": {
        "id": "kBX69TJCRBUd"
      },
      "source": [
        "### Manipulate the data to find answer"
      ]
    },
    {
      "cell_type": "markdown",
      "metadata": {
        "id": "en5wYDJPiMXQ"
      },
      "source": [
        "My messy process was pretty much to sort the orders multiple times until I could count how many orders each user had and the average time of day for all those orders."
      ]
    },
    {
      "cell_type": "code",
      "metadata": {
        "id": "Wj_9i0dnQdEV"
      },
      "source": [
        "orders1 = orders[['order_id', 'user_id']]\n",
        "orders2 = orders1.groupby('user_id').count().agg(lambda x: x.tolist())\n",
        "orders2 = orders2.rename(columns = {'user_id':'user id', 'order_id':'number of orders'})\n",
        "orders3 = orders[['user_id', 'order_hour_of_day']]\n",
        "orders4 = orders3.groupby('user_id').mean()\n",
        "orders4 = orders4.rename(columns = {'user_id':'user id','order_hour_of_day':'average time of day'})\n",
        "orders5 = pd.concat([orders2, orders4], axis=1)\n",
        "orders6 = orders5[0:2500]"
      ],
      "execution_count": null,
      "outputs": []
    },
    {
      "cell_type": "markdown",
      "metadata": {
        "id": "1d4zh7RuRE_h"
      },
      "source": [
        "### Plot the result"
      ]
    },
    {
      "cell_type": "markdown",
      "metadata": {
        "id": "WrXCJA-AikIK"
      },
      "source": [
        "A scatter plot allows you to see the trend in that most users order around the middle of the day with the most avid users only ordering between 7AM and 6PM."
      ]
    },
    {
      "cell_type": "code",
      "metadata": {
        "colab": {
          "base_uri": "https://localhost:8080/",
          "height": 296
        },
        "id": "uevf-EZQQXJY",
        "outputId": "f782e581-662c-4ad6-9d41-0d6c333c8d1d"
      },
      "source": [
        "display(orders6.plot.scatter(x=\"average time of day\", y=\"number of orders\"))"
      ],
      "execution_count": null,
      "outputs": [
        {
          "output_type": "display_data",
          "data": {
            "text/plain": [
              "<matplotlib.axes._subplots.AxesSubplot at 0x7fe89471c910>"
            ]
          },
          "metadata": {}
        },
        {
          "output_type": "display_data",
          "data": {
            "image/png": "[encoded data removed]",
            "text/plain": [
              "<Figure size 432x288 with 1 Axes>"
            ]
          },
          "metadata": {
            "needs_background": "light"
          }
        }
      ]
    },
    {
      "cell_type": "markdown",
      "metadata": {
        "id": "eo-0BrrfRXah"
      },
      "source": [
        "## How many products are there in each department?"
      ]
    },
    {
      "cell_type": "markdown",
      "metadata": {
        "id": "ZV0g2Kk-iyid"
      },
      "source": [
        "This was an interesting question and could be used to further compare to other data to answer numerous questions."
      ]
    },
    {
      "cell_type": "markdown",
      "metadata": {
        "id": "Y-3kiBlpRbsu"
      },
      "source": [
        "### Manipulate the data to find answer"
      ]
    },
    {
      "cell_type": "markdown",
      "metadata": {
        "id": "sCSZFHMki5W8"
      },
      "source": [
        "I just counted the products and compared them against the department id while counting them all."
      ]
    },
    {
      "cell_type": "code",
      "metadata": {
        "id": "hNBHVxvoRS7G"
      },
      "source": [
        "products1 = products[['product_id', 'department_id']]\n",
        "products2 = products1.groupby('department_id').count()\n",
        "products2 = products2.rename(columns= {'department_id':'department number', 'product_id':'number of products'})"
      ],
      "execution_count": null,
      "outputs": []
    },
    {
      "cell_type": "markdown",
      "metadata": {
        "id": "9RJcyQZBRe01"
      },
      "source": [
        "### Plot the result"
      ]
    },
    {
      "cell_type": "markdown",
      "metadata": {
        "id": "N3BSJzVljAFJ"
      },
      "source": [
        "A bar graph was an easy way to see the differences quickly and efficiently."
      ]
    },
    {
      "cell_type": "code",
      "metadata": {
        "colab": {
          "base_uri": "https://localhost:8080/",
          "height": 316
        },
        "id": "nor5CSNhRRpP",
        "outputId": "fdcee8e4-d7c1-491b-c0ad-e61ff9162980"
      },
      "source": [
        "display(products2.plot.bar().set_title('number of products in departments'))"
      ],
      "execution_count": null,
      "outputs": [
        {
          "output_type": "display_data",
          "data": {
            "text/plain": [
              "Text(0.5, 1.0, 'number of products in departments')"
            ]
          },
          "metadata": {}
        },
        {
          "output_type": "display_data",
          "data": {
            "image/png": "[encoded data removed]",
            "text/plain": [
              "<Figure size 432x288 with 1 Axes>"
            ]
          },
          "metadata": {
            "needs_background": "light"
          }
        }
      ]
    },
    {
      "cell_type": "markdown",
      "metadata": {
        "id": "q83zs-wBUv65"
      },
      "source": [
        "## How many unique orders do we have?"
      ]
    },
    {
      "cell_type": "markdown",
      "metadata": {
        "id": "sXwqb56KUz98"
      },
      "source": [
        "The dataframe \"orders\" is already separatated by order id, so the length  of the dataframe is the unique orders"
      ]
    },
    {
      "cell_type": "code",
      "metadata": {
        "colab": {
          "base_uri": "https://localhost:8080/"
        },
        "id": "6fvnm2J6Vt7P",
        "outputId": "b2febbd0-37d4-4465-e841-2ae188764279"
      },
      "source": [
        "len(orders)"
      ],
      "execution_count": null,
      "outputs": [
        {
          "output_type": "execute_result",
          "data": {
            "text/plain": [
              "3421083"
            ]
          },
          "metadata": {},
          "execution_count": 45
        }
      ]
    },
    {
      "cell_type": "markdown",
      "metadata": {
        "id": "rELHixETVxPg"
      },
      "source": [
        "## What is the most popular first item to add to the cart?"
      ]
    },
    {
      "cell_type": "markdown",
      "metadata": {
        "id": "56gsXTQ2X7AX"
      },
      "source": [
        "Combine the two dataframes that detail orders and product ids together"
      ]
    },
    {
      "cell_type": "code",
      "metadata": {
        "id": "1jiScNvjXnL3"
      },
      "source": [
        "carts=pd.concat([order_products__prior, order_products__train, orders])"
      ],
      "execution_count": null,
      "outputs": []
    },
    {
      "cell_type": "markdown",
      "metadata": {
        "id": "oLu8ZsUkYLBE"
      },
      "source": [
        "Group and count by the product id to find the highest number"
      ]
    },
    {
      "cell_type": "code",
      "metadata": {
        "colab": {
          "base_uri": "https://localhost:8080/"
        },
        "id": "gVKOibtiXpdM",
        "outputId": "49f22118-ef0a-48fa-cd10-79421c18267f"
      },
      "source": [
        "first_to_cart=carts[carts.add_to_cart_order==1]\n",
        "fi=first_to_cart.groupby('product_id').count()['order_id']\n",
        "fi.max()"
      ],
      "execution_count": null,
      "outputs": [
        {
          "output_type": "execute_result",
          "data": {
            "text/plain": [
              "115521"
            ]
          },
          "metadata": {},
          "execution_count": 54
        }
      ]
    },
    {
      "cell_type": "markdown",
      "metadata": {
        "id": "n4ZTQSsNYYgI"
      },
      "source": [
        "Take that number and find the product id realted to it"
      ]
    },
    {
      "cell_type": "code",
      "metadata": {
        "colab": {
          "base_uri": "https://localhost:8080/"
        },
        "id": "Ff1RHSWIXxnf",
        "outputId": "5da8d635-df1a-4dae-e5a4-bbed99d7b714"
      },
      "source": [
        "fi[fi==115521]"
      ],
      "execution_count": null,
      "outputs": [
        {
          "output_type": "execute_result",
          "data": {
            "text/plain": [
              "product_id\n",
              "24852.0    115521\n",
              "Name: order_id, dtype: int64"
            ]
          },
          "metadata": {},
          "execution_count": 55
        }
      ]
    },
    {
      "cell_type": "markdown",
      "metadata": {
        "id": "-QMguUu8YjZd"
      },
      "source": [
        "Find the name of the product from the id you found"
      ]
    },
    {
      "cell_type": "code",
      "metadata": {
        "colab": {
          "base_uri": "https://localhost:8080/",
          "height": 80
        },
        "id": "NxeqWcO4Xz5g",
        "outputId": "60714012-6950-4e38-957d-4776a8f34eb5"
      },
      "source": [
        "products[products.product_id==24852]"
      ],
      "execution_count": null,
      "outputs": [
        {
          "output_type": "execute_result",
          "data": {
            "text/html": [
              "<div>\n",
              "<style scoped>\n",
              "    .dataframe tbody tr th:only-of-type {\n",
              "        vertical-align: middle;\n",
              "    }\n",
              "\n",
              "    .dataframe tbody tr th {\n",
              "        vertical-align: top;\n",
              "    }\n",
              "\n",
              "    .dataframe thead th {\n",
              "        text-align: right;\n",
              "    }\n",
              "</style>\n",
              "<table border=\"1\" class=\"dataframe\">\n",
              "  <thead>\n",
              "    <tr style=\"text-align: right;\">\n",
              "      <th></th>\n",
              "      <th>product_id</th>\n",
              "      <th>product_name</th>\n",
              "      <th>aisle_id</th>\n",
              "      <th>department_id</th>\n",
              "    </tr>\n",
              "  </thead>\n",
              "  <tbody>\n",
              "    <tr>\n",
              "      <th>24851</th>\n",
              "      <td>24852</td>\n",
              "      <td>Banana</td>\n",
              "      <td>24</td>\n",
              "      <td>4</td>\n",
              "    </tr>\n",
              "  </tbody>\n",
              "</table>\n",
              "</div>"
            ],
            "text/plain": [
              "       product_id product_name  aisle_id  department_id\n",
              "24851       24852       Banana        24              4"
            ]
          },
          "metadata": {},
          "execution_count": 56
        }
      ]
    },
    {
      "cell_type": "markdown",
      "metadata": {
        "id": "zE-cSU0nZFh0"
      },
      "source": [
        "Bananas!"
      ]
    },
    {
      "cell_type": "markdown",
      "metadata": {
        "id": "NJwLWcfuYri_"
      },
      "source": [
        "![picture](https://drive.google.com/uc?export=view&id=148pXtv8hk7Tir6wK6-5xP6gTreEiCW3x)"
      ]
    },
    {
      "cell_type": "markdown",
      "metadata": {
        "id": "S9CISF14jH7Y"
      },
      "source": [
        "# Thank you!"
      ]
    },
    {
      "cell_type": "markdown",
      "metadata": {
        "id": "vt0e2EjPjLaq"
      },
      "source": [
        "I hoped you found my data interesting! Please let me know if you found this useful by emailing me any comments or questions to bowenmb01@mail.buffalostate.edu . Now go out any gather some data!"
      ]
    }
  ]
}